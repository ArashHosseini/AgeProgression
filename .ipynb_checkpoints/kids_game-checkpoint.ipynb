{
 "cells": [
  {
   "cell_type": "code",
   "execution_count": 1,
   "metadata": {},
   "outputs": [],
   "source": [
    "import os\n",
    "import glob\n",
    "import random\n",
    "import shutil\n",
    "from tempfile import gettempdir\n",
    "from IPython.display import clear_output, Image\n",
    "from torchvision.datasets.folder import pil_loader\n",
    "from model import Net\n",
    "from utils import pil_to_model_tensor_transform\n",
    "import consts\n",
    "\n",
    "# UTKFace constants\n",
    "\n",
    "MALE = 0\n",
    "FEMALE = 1\n",
    "\n",
    "WHITE = 0\n",
    "BLACK = 1\n",
    "ASIAN = 2\n",
    "INDIAN = 3\n",
    "OTHER = 4\n",
    "\n",
    "# User constants\n",
    "\n",
    "dset_path = os.path.join('.', 'data', 'UTKFace', 'unlabeled')\n",
    "tempdir = gettempdir()"
   ]
  },
  {
   "cell_type": "code",
   "execution_count": 2,
   "metadata": {
    "scrolled": true
   },
   "outputs": [
    {
     "name": "stdout",
     "output_type": "stream",
     "text": [
      "[15_57] Loaded E, G from .\\trained_models\\2018_09_08\\01_44\\epoch76\n"
     ]
    }
   ],
   "source": [
    "consts.NUM_Z_CHANNELS = 50  # we have two trained models, with 50 and 100\n",
    "net = Net()\n",
    "load_path = {50: r\".\\trained_models\\2018_09_08\\01_44\\epoch76\", 100: r\"C:\\Users\\Mattan\\Downloads\\long_train_5\\epoch200\"}[consts.NUM_Z_CHANNELS]\n",
    "net.load(load_path, slim=True)  # slim tells the net to load only the encoder and generator"
   ]
  },
  {
   "cell_type": "code",
   "execution_count": 3,
   "metadata": {},
   "outputs": [
    {
     "data": {
      "image/jpeg": "[encoded data removed]",
      "text/plain": [
       "<IPython.core.display.Image object>"
      ]
     },
     "execution_count": 3,
     "metadata": {},
     "output_type": "execute_result"
    }
   ],
   "source": [
    "# Game 3: Kids\n",
    "# Set the attributes of the first random person you want to test\n",
    "age_1 = 5\n",
    "gender_1 = MALE\n",
    "race_1 = BLACK\n",
    "\n",
    "image_path_1 = random.choice(glob.glob(os.path.join(dset_path, '{a}_{g}_{r}*'.format(a=age_1, g=gender_1, r=race_1))))\n",
    "Image(filename=image_path_1)  # Will select and show a person with the attributes you selected"
   ]
  },
  {
   "cell_type": "code",
   "execution_count": 4,
   "metadata": {
    "scrolled": true
   },
   "outputs": [
    {
     "data": {
      "image/jpeg": "[encoded data removed]",
      "text/plain": [
       "<IPython.core.display.Image object>"
      ]
     },
     "execution_count": 4,
     "metadata": {},
     "output_type": "execute_result"
    }
   ],
   "source": [
    "# Game 3: Kids\n",
    "# Set the attributes of the second random person you want to test\n",
    "age_2 = 5\n",
    "gender_2 = MALE\n",
    "race_2 = BLACK\n",
    "\n",
    "image_path_2 = random.choice(glob.glob(os.path.join(dset_path, '{a}_{g}_{r}*'.format(a=age_2, g=gender_2, r=race_2))))\n",
    "Image(filename=image_path_2)  # Will select and show a person with the attributes you selected"
   ]
  },
  {
   "cell_type": "code",
   "execution_count": 5,
   "metadata": {},
   "outputs": [
    {
     "ename": "NameError",
     "evalue": "name 'image_path_2' is not defined",
     "output_type": "error",
     "traceback": [
      "\u001b[1;31m---------------------------------------------------------------------------\u001b[0m",
      "\u001b[1;31mNameError\u001b[0m                                 Traceback (most recent call last)",
      "\u001b[1;32m<ipython-input-5-1f0d5628cfda>\u001b[0m in \u001b[0;36m<module>\u001b[1;34m()\u001b[0m\n\u001b[0;32m      1\u001b[0m \u001b[0mimage_tensor_1\u001b[0m \u001b[1;33m=\u001b[0m \u001b[0mpil_to_model_tensor_transform\u001b[0m\u001b[1;33m(\u001b[0m\u001b[0mpil_loader\u001b[0m\u001b[1;33m(\u001b[0m\u001b[0mimage_path_1\u001b[0m\u001b[1;33m)\u001b[0m\u001b[1;33m)\u001b[0m\u001b[1;33m\u001b[0m\u001b[0m\n\u001b[1;32m----> 2\u001b[1;33m \u001b[0mimage_tensor_2\u001b[0m \u001b[1;33m=\u001b[0m \u001b[0mpil_to_model_tensor_transform\u001b[0m\u001b[1;33m(\u001b[0m\u001b[0mpil_loader\u001b[0m\u001b[1;33m(\u001b[0m\u001b[0mimage_path_2\u001b[0m\u001b[1;33m)\u001b[0m\u001b[1;33m)\u001b[0m\u001b[1;33m\u001b[0m\u001b[0m\n\u001b[0m\u001b[0;32m      3\u001b[0m \u001b[0mImage\u001b[0m\u001b[1;33m(\u001b[0m\u001b[0mfilename\u001b[0m\u001b[1;33m=\u001b[0m\u001b[0mnet\u001b[0m\u001b[1;33m.\u001b[0m\u001b[0mkids\u001b[0m\u001b[1;33m(\u001b[0m\u001b[0mimage_tensors\u001b[0m\u001b[1;33m=\u001b[0m\u001b[1;33m(\u001b[0m\u001b[0mimage_tensor_1\u001b[0m\u001b[1;33m,\u001b[0m \u001b[0mimage_tensor_2\u001b[0m\u001b[1;33m)\u001b[0m\u001b[1;33m,\u001b[0m \u001b[0mlength\u001b[0m\u001b[1;33m=\u001b[0m\u001b[1;36m10\u001b[0m\u001b[1;33m,\u001b[0m \u001b[0mtarget\u001b[0m\u001b[1;33m=\u001b[0m\u001b[0mtempdir\u001b[0m\u001b[1;33m)\u001b[0m\u001b[1;33m)\u001b[0m\u001b[1;33m\u001b[0m\u001b[0m\n",
      "\u001b[1;31mNameError\u001b[0m: name 'image_path_2' is not defined"
     ]
    }
   ],
   "source": [
    "image_tensor_1 = pil_to_model_tensor_transform(pil_loader(image_path_1))\n",
    "image_tensor_2 = pil_to_model_tensor_transform(pil_loader(image_path_2))\n",
    "Image(filename=net.kids(image_tensors=(image_tensor_1, image_tensor_2), length=10, target=tempdir))"
   ]
  },
  {
   "cell_type": "code",
   "execution_count": null,
   "metadata": {},
   "outputs": [],
   "source": []
  }
 ],
 "metadata": {
  "kernelspec": {
   "display_name": "Python 3",
   "language": "python",
   "name": "python3"
  },
  "language_info": {
   "codemirror_mode": {
    "name": "ipython",
    "version": 3
   },
   "file_extension": ".py",
   "mimetype": "text/x-python",
   "name": "python",
   "nbconvert_exporter": "python",
   "pygments_lexer": "ipython3",
   "version": "3.7.0"
  }
 },
 "nbformat": 4,
 "nbformat_minor": 2
}
